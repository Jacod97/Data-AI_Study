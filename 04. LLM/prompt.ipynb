{
 "cells": [
  {
   "cell_type": "code",
   "execution_count": 1,
   "metadata": {},
   "outputs": [
    {
     "ename": "TypeError",
     "evalue": "str expected, not NoneType",
     "output_type": "error",
     "traceback": [
      "\u001b[31m---------------------------------------------------------------------------\u001b[39m",
      "\u001b[31mTypeError\u001b[39m                                 Traceback (most recent call last)",
      "\u001b[36mCell\u001b[39m\u001b[36m \u001b[39m\u001b[32mIn[1]\u001b[39m\u001b[32m, line 7\u001b[39m\n\u001b[32m      5\u001b[39m load_dotenv()\n\u001b[32m      6\u001b[39m api_key = os.getenv(\u001b[33m\"\u001b[39m\u001b[33mHH_OPENAI_API_KEY\u001b[39m\u001b[33m\"\u001b[39m)\n\u001b[32m----> \u001b[39m\u001b[32m7\u001b[39m \u001b[43mos\u001b[49m\u001b[43m.\u001b[49m\u001b[43menviron\u001b[49m\u001b[43m[\u001b[49m\u001b[33;43m\"\u001b[39;49m\u001b[33;43mOPENAI_API_KEY\u001b[39;49m\u001b[33;43m\"\u001b[39;49m\u001b[43m]\u001b[49m = api_key\n\u001b[32m      9\u001b[39m llm = ChatOpenAI(model_name=\u001b[33m'\u001b[39m\u001b[33mgpt-4o-mini\u001b[39m\u001b[33m'\u001b[39m, temperature=\u001b[32m1\u001b[39m)\n",
      "\u001b[36mFile \u001b[39m\u001b[32m<frozen os>:719\u001b[39m, in \u001b[36m__setitem__\u001b[39m\u001b[34m(self, key, value)\u001b[39m\n",
      "\u001b[36mFile \u001b[39m\u001b[32m<frozen os>:779\u001b[39m, in \u001b[36mcheck_str\u001b[39m\u001b[34m(value)\u001b[39m\n",
      "\u001b[31mTypeError\u001b[39m: str expected, not NoneType"
     ]
    }
   ],
   "source": [
    "import os\n",
    "from dotenv import load_dotenv\n",
    "from langchain_openai import ChatOpenAI\n",
    "\n",
    "load_dotenv()\n",
    "api_key = os.getenv(\"HH_OPENAI_API_KEY\")\n",
    "os.environ[\"OPENAI_API_KEY\"] = api_key\n",
    "\n",
    "llm = ChatOpenAI(model_name='gpt-4o-mini', temperature=1)"
   ]
  },
  {
   "cell_type": "code",
   "execution_count": 8,
   "metadata": {},
   "outputs": [
    {
     "data": {
      "text/plain": [
       "'서울에는 남자친구와 함께 가기 좋은 명소가 많습니다. 아래 몇 가지 추천해 드릴게요!\\n\\n1. **경복궁** - 전통적인 한국의 아름다움을 느낄 수 있는 궁궐로, 걷기 좋은 경치와 함께 다양한 포토스팟이 있습니다.\\n\\n2. **북촌 한옥마을** - 전통 한옥이 모여 있는 이곳에서 산책하며 한국의 전통문화를 체험해보세요. 아기자기한 카페와 공방도 많습니다.\\n\\n3. **한강공원** - 자전거를 타거나 피크닉을 즐기기 좋은 장소입니다. 해질 무렵의 한강 풍경은 정말 아름답습니다.\\n\\n4. **서울숲** - 자연 속에서 여유롭게 산책할 수 있는 공원으로, 다양한 동식물을 관찰하며 힐링할 수 있습니다.\\n\\n5. **명동** - 쇼핑과 맛집이 많은 명동에서 각종 먹거리를 즐기고, 거리 공연도 관람해보세요.\\n\\n6. **남산 서울타워** - 서울의 전경을 한눈에 볼 수 있는 곳으로, 야경도 매우 아름답습니다. 사랑의 자물쇠를 걸어보는 것도 재미있습니다.\\n\\n7. **이태원** - 다양한 문화가 공존하는 이태원에서는 독특한 레스토랑과 카페가 많아 색다른 경험을 할 수 있습니다.\\n\\n8. **롯데월드타워** - 서울에서 가장 높은 빌딩으로, 전망대에서 멋진 경치를 감상하고, 쇼핑이나 맛집 탐방도 가능해요.\\n\\n각 명소마다 특별한 경험을 할 수 있으니, 남자친구와 함께 즐거운 시간을 보내세요!'"
      ]
     },
     "execution_count": 8,
     "metadata": {},
     "output_type": "execute_result"
    }
   ],
   "source": [
    "result = llm.invoke('남자친구와 가볼만한 서울 명소 추천해줘')\n",
    "result.content"
   ]
  },
  {
   "cell_type": "code",
   "execution_count": null,
   "metadata": {},
   "outputs": [
    {
     "data": {
      "text/plain": [
       "'당신은 초등학교 1학년 학생들에게 정보를 제공하는 인공지능 도우미입니다. 학생들이 이해할 수 있도록 인공지능에 대해서 100자 내외로 짧게 요약해서 설명해줘'"
      ]
     },
     "execution_count": 12,
     "metadata": {},
     "output_type": "execute_result"
    }
   ],
   "source": [
    "from langchain_core.prompts import PromptTemplate\n",
    "\n",
    "# 프롬프트의 틀 만들기 \n",
    "template = '당신은 초등학교 1학년 학생들에게 정보를 제공하는 인공지능 도우미입니다. 학생들이 이해할 수 있도록 {topic}에 대해서 100자 내외로 짧게 요약해서 설명해줘'\n",
    "prompt = PromptTemplate.from_template(template)\n",
    "\n",
    "prompt_data = prompt.format(topic='인공지능')\n",
    "\n",
    "prompt_data"
   ]
  },
  {
   "cell_type": "code",
   "execution_count": 13,
   "metadata": {},
   "outputs": [
    {
     "data": {
      "text/plain": [
       "AIMessage(content='배추 된장국은 배추와 된장을 주 재료로 만든 국이에요. 따뜻하고 맛있어서 밥과 함께 먹으면 좋아요. 건강에도 좋고, 온 가족이 즐길 수 있는 음식이에요!', additional_kwargs={'refusal': None}, response_metadata={'token_usage': {'completion_tokens': 52, 'prompt_tokens': 58, 'total_tokens': 110, 'completion_tokens_details': {'accepted_prediction_tokens': 0, 'audio_tokens': 0, 'reasoning_tokens': 0, 'rejected_prediction_tokens': 0}, 'prompt_tokens_details': {'audio_tokens': 0, 'cached_tokens': 0}}, 'model_name': 'gpt-4o-mini-2024-07-18', 'system_fingerprint': 'fp_06737a9306', 'finish_reason': 'stop', 'logprobs': None}, id='run-521063d1-f7e3-484d-a7f5-56e9b81cfae0-0', usage_metadata={'input_tokens': 58, 'output_tokens': 52, 'total_tokens': 110, 'input_token_details': {'audio': 0, 'cache_read': 0}, 'output_token_details': {'audio': 0, 'reasoning': 0}})"
      ]
     },
     "execution_count": 13,
     "metadata": {},
     "output_type": "execute_result"
    }
   ],
   "source": [
    "chain = prompt | llm \n",
    "\n",
    "chain.invoke('배추 된장국')"
   ]
  },
  {
   "cell_type": "code",
   "execution_count": 14,
   "metadata": {},
   "outputs": [
    {
     "data": {
      "text/plain": [
       "'당신은 초등학교 6학년 학생들에게 정보를 제공하는 인공지능 도우미입니다. 학생들이 이해할 수 있도록 인공지능에 대해서 100자 내외로 짧게 요약해서 설명해줘'"
      ]
     },
     "execution_count": 14,
     "metadata": {},
     "output_type": "execute_result"
    }
   ],
   "source": [
    "from langchain_core.prompts import PromptTemplate\n",
    "\n",
    "# 프롬프트의 틀 만들기 \n",
    "template = '당신은 초등학교 {level} 학생들에게 정보를 제공하는 인공지능 도우미입니다. 학생들이 이해할 수 있도록 {topic}에 대해서 100자 내외로 짧게 요약해서 설명해줘'\n",
    "prompt = PromptTemplate.from_template(template)\n",
    "\n",
    "prompt_data = prompt.format(level='6학년',topic='인공지능')\n",
    "\n",
    "prompt_data"
   ]
  },
  {
   "cell_type": "code",
   "execution_count": 17,
   "metadata": {},
   "outputs": [
    {
     "data": {
      "text/plain": [
       "AIMessage(content='배추 된장국은 한국의 전통 음식으로, 배추와 된장을 주재료로 합니다. 국물은 된장 덕분에 깊은 맛이 나고, 배추는 아삭아삭한 식감을 더해줍니다. 보통 밥과 함께 먹으며, 따뜻하고 건강한 한 끼로 사랑받습니다.', additional_kwargs={'refusal': None}, response_metadata={'token_usage': {'completion_tokens': 79, 'prompt_tokens': 58, 'total_tokens': 137, 'completion_tokens_details': {'accepted_prediction_tokens': 0, 'audio_tokens': 0, 'reasoning_tokens': 0, 'rejected_prediction_tokens': 0}, 'prompt_tokens_details': {'audio_tokens': 0, 'cached_tokens': 0}}, 'model_name': 'gpt-4o-mini-2024-07-18', 'system_fingerprint': 'fp_06737a9306', 'finish_reason': 'stop', 'logprobs': None}, id='run-2471e6db-34c9-4729-b84c-8a37f712454b-0', usage_metadata={'input_tokens': 58, 'output_tokens': 79, 'total_tokens': 137, 'input_token_details': {'audio': 0, 'cache_read': 0}, 'output_token_details': {'audio': 0, 'reasoning': 0}})"
      ]
     },
     "execution_count": 17,
     "metadata": {},
     "output_type": "execute_result"
    }
   ],
   "source": [
    "chain = prompt | llm \n",
    "\n",
    "chain.invoke({'level':'6학년',\n",
    "              'topic':'배추 된장국'})"
   ]
  },
  {
   "cell_type": "markdown",
   "metadata": {},
   "source": [
    "### Mission 1. 번역 해주는 prompt 만들기 "
   ]
  },
  {
   "cell_type": "code",
   "execution_count": null,
   "metadata": {},
   "outputs": [
    {
     "data": {
      "text/plain": [
       "'당신은 대한민국 최고 번역가 입니다. 논문 번역을 주로 맡아서 자신이 있습니다. 인공지능에 대해서 번역해줘줘'"
      ]
     },
     "execution_count": 19,
     "metadata": {},
     "output_type": "execute_result"
    }
   ],
   "source": [
    "# from langchain_core.prompts import PromptTemplate\n",
    "\n",
    "# template = '당신은 대한민국 최고 번역가 입니다. 논문 번역을 주로 맡아서 자신이 있습니다. {topic}에 대해서 번역해줘줘'\n",
    "# prompt = PromptTemplate.from_template(template)\n",
    "\n",
    "# prompt_data = prompt.format(topic='인공지능')\n",
    "\n",
    "# prompt_data"
   ]
  },
  {
   "cell_type": "code",
   "execution_count": null,
   "metadata": {},
   "outputs": [
    {
     "data": {
      "text/plain": [
       "AIMessage(content='양자컴퓨터는 아주 작은 양자 입자를 사용해 정보를 처리하는 컴퓨터예요. 일반 컴퓨터보다 빠르고 복잡한 문제를 해결하는 데 강력해요. 마치 마법처럼 새로운 방식으로 계산해요!', additional_kwargs={'refusal': None}, response_metadata={'token_usage': {'completion_tokens': 53, 'prompt_tokens': 57, 'total_tokens': 110, 'completion_tokens_details': {'accepted_prediction_tokens': 0, 'audio_tokens': 0, 'reasoning_tokens': 0, 'rejected_prediction_tokens': 0}, 'prompt_tokens_details': {'audio_tokens': 0, 'cached_tokens': 0}}, 'model_name': 'gpt-4o-mini-2024-07-18', 'system_fingerprint': 'fp_06737a9306', 'finish_reason': 'stop', 'logprobs': None}, id='run-33587ae5-2cb8-4fc0-89e9-4dcf9b812caf-0', usage_metadata={'input_tokens': 57, 'output_tokens': 53, 'total_tokens': 110, 'input_token_details': {'audio': 0, 'cache_read': 0}, 'output_token_details': {'audio': 0, 'reasoning': 0}})"
      ]
     },
     "execution_count": 24,
     "metadata": {},
     "output_type": "execute_result"
    }
   ],
   "source": [
    "template = '당신은 초등학교 {level} 학생들에게 정보를 제공하는 인공지능 도우미입니다. 학생들이 이해할 수 있도록 {topic}에 대해서 100자 내외로 짧게 요약해서 설명해줘'\n",
    "\n",
    "prompt = PromptTemplate(\n",
    "    template= template,\n",
    "    input_variables=['topic'],  # 사용자에게 받는거 \n",
    "    partial_variables={'level':'3학년'} # 고정 변수\n",
    ")\n",
    "\n",
    "prompt_partial = prompt.partial(level='4학년')\n",
    "\n",
    "chain = prompt_partial | llm \n",
    "chain.invoke('양자컴퓨터') "
   ]
  },
  {
   "cell_type": "code",
   "execution_count": 25,
   "metadata": {},
   "outputs": [
    {
     "data": {
      "text/plain": [
       "[SystemMessage(content='당신은 초등학교 과학을 알려주는 인공지능 도우미 입니다.', additional_kwargs={}, response_metadata={}),\n",
       " HumanMessage(content='양자컴퓨터에 대해 쉽게 설명해주세요.', additional_kwargs={}, response_metadata={})]"
      ]
     },
     "execution_count": 25,
     "metadata": {},
     "output_type": "execute_result"
    }
   ],
   "source": [
    "from langchain_core.prompts import ChatPromptTemplate\n",
    "\n",
    "prompt = ChatPromptTemplate.from_messages(\n",
    "    [\n",
    "        ('system', '당신은 초등학교 과학을 알려주는 인공지능 도우미 입니다.'), \n",
    "        ('user','{topic}에 대해 쉽게 설명해주세요.')\n",
    "    ]\n",
    ")\n",
    "\n",
    "formatted_prompt = prompt.format_messages(topic='양자컴퓨터')\n",
    "formatted_prompt"
   ]
  },
  {
   "cell_type": "code",
   "execution_count": 33,
   "metadata": {},
   "outputs": [
    {
     "data": {
      "text/plain": [
       "AIMessage(content='jcode를 위해 만들 메뉴를 결정하는 건 정말 중요한 일이죠! 아래에서 고를 수 있는 몇 가지 메뉴를 제안드릴게요:\\n\\n### 메뉴 1: 따뜻한 가정식\\n- **메인**: 불고기 또는 돼지갈비\\n- **사이드**: 고구마 범벅, 새우젓을 곁들인 시금치나물\\n- **국**: 계란국 또는 미소된장국\\n- **밥**: 흑미밥 또는 비빔밥\\n\\n### 메뉴 2: 이탈리안 저녁\\n- **메인**: 크림소스를 곁들인 치킨 파르메잔\\n- **사이드**: 그릴드 아스파라거스와 방울토마토 샐러드\\n- **빵**: 바삭한 마늘빵\\n- **디저트**: 젤라또 또는 티라미수\\n\\n### 메뉴 3: 건강한 그릴 바베큐\\n- **메인**: 허브로 양념한 연어 구이\\n- **사이드**: 구운 채소 믹스 (브로콜리, 당근, 파프리카)\\n- **샐러드**: 퀴노아 샐러드 (퀴노아, 아보카도, 토마토, 레몬 드레싱)\\n- **디저트**: 과일 샐러드\\n\\n### 메뉴 4: 아시아풍 저녁\\n- **메인**: 한방 치킨터리야끼\\n- **사이드**: 야채 볶음밥\\n- **국**: 미소된장국\\n- **디저트**: 말차 아이스크림\\n\\n이 중에서 jcode의 취향에 맞는 메뉴를 골라보세요! 그리고 특별한 날이라면, 직접 만든 요리의 과정도 감동을 줄 수 있으니 즐겁게 요리해보세요!', additional_kwargs={'refusal': None}, response_metadata={'token_usage': {'completion_tokens': 433, 'prompt_tokens': 434, 'total_tokens': 867, 'completion_tokens_details': {'accepted_prediction_tokens': 0, 'audio_tokens': 0, 'reasoning_tokens': 0, 'rejected_prediction_tokens': 0}, 'prompt_tokens_details': {'audio_tokens': 0, 'cached_tokens': 0}}, 'model_name': 'gpt-4o-mini-2024-07-18', 'system_fingerprint': 'fp_06737a9306', 'finish_reason': 'stop', 'logprobs': None}, id='run-a0b43941-096a-4799-85f1-9cc456263102-0', usage_metadata={'input_tokens': 434, 'output_tokens': 433, 'total_tokens': 867, 'input_token_details': {'audio': 0, 'cache_read': 0}, 'output_token_details': {'audio': 0, 'reasoning': 0}})"
      ]
     },
     "execution_count": 33,
     "metadata": {},
     "output_type": "execute_result"
    }
   ],
   "source": [
    "from langchain.prompts import ChatPromptTemplate, MessagesPlaceholder\n",
    "from langchain.schema import AIMessage, HumanMessage\n",
    "\n",
    "prompt = ChatPromptTemplate.from_messages(\n",
    "    [\n",
    "        ('system', '당신은 유능한 영양사입니다.'), \n",
    "        MessagesPlaceholder(variable_name='chat_history'),\n",
    "        ('human','{question}')\n",
    "    ]\n",
    ")\n",
    "\n",
    "chat_history = [\n",
    "    HumanMessage(content='난 jcode의 여자친구 지민이야'),\n",
    "    AIMessage('지민님 반갑습니다')\n",
    "]\n",
    "\n",
    "formatted_prompt = prompt.format_messages(\n",
    "    chat_history = chat_history,\n",
    "    question = 'jcode에게 차려줄 저녁식사 메뉴 추천해줘'\n",
    ")\n",
    "\n",
    "# chain = prompt | llm \n",
    "# chain.invoke({'question':'여보세요'},chat_history=chat_history)\n",
    "\n",
    "chain.invoke({\"question\": \"내 이름이 뭐라고?\", \"chat_history\":chat_history})\n",
    "\n",
    "result = llm.invoke(formatted_prompt).content\n",
    "\n",
    "chat_history.append(HumanMessage(content='정성 가득하게 보일 수 있는 저녁 메뉴를 추천해주세요'))\n",
    "chat_history.append(AIMessage(content=result))\n",
    "\n",
    "chain.invoke({\"question\": \"어떤 메뉴를 만들어줄까\", \"chat_history\":chat_history})"
   ]
  },
  {
   "cell_type": "code",
   "execution_count": 39,
   "metadata": {},
   "outputs": [
    {
     "data": {
      "text/plain": [
       "AIMessage(content='입력: Deep Learning  \\n출력: DL', additional_kwargs={'refusal': None}, response_metadata={'token_usage': {'completion_tokens': 11, 'prompt_tokens': 58, 'total_tokens': 69, 'completion_tokens_details': {'accepted_prediction_tokens': 0, 'audio_tokens': 0, 'reasoning_tokens': 0, 'rejected_prediction_tokens': 0}, 'prompt_tokens_details': {'audio_tokens': 0, 'cached_tokens': 0}}, 'model_name': 'gpt-4o-mini-2024-07-18', 'system_fingerprint': 'fp_06737a9306', 'finish_reason': 'stop', 'logprobs': None}, id='run-e723e8c4-6f36-4f89-b525-9fbba5bd8c2c-0', usage_metadata={'input_tokens': 58, 'output_tokens': 11, 'total_tokens': 69, 'input_token_details': {'audio': 0, 'cache_read': 0}, 'output_token_details': {'audio': 0, 'reasoning': 0}})"
      ]
     },
     "execution_count": 39,
     "metadata": {},
     "output_type": "execute_result"
    }
   ],
   "source": [
    "from langchain.prompts import FewShotPromptTemplate, PromptTemplate\n",
    "\n",
    "examples = [\n",
    "    {'word':'Artificial Intelligence', 'abbreviation':'AI'},\n",
    "    {'word':'Machine Learning', 'abbreviation':'ML'},\n",
    "    {'word':'Natural Language Processing', 'abbreviation':'NLP'}\n",
    "]\n",
    "\n",
    "example_prompt = PromptTemplate(\n",
    "    input_variables=[\"word\",\"abbreviation\"],\n",
    "    template=\"입력: {word}\\n 출력 : {abbreviation}\\n\"\n",
    ")\n",
    "\n",
    "few_shot_prompt = FewShotPromptTemplate(\n",
    "    examples = examples,                # 위에서 정의한 예제 데이터 \n",
    "    example_prompt = example_prompt,    # 예제를 넣을 템플릿\n",
    "    prefix =\"다음 단어를 줄임말로 ! \\n\",   # 프롬프트 시작 부분\n",
    "    suffix = \"입력{word}\\n출력 : \",       # 사용자 입력부\n",
    "    input_variables=[\"word\"]            # 동적으로 입력될 변수  \n",
    ")\n",
    "\n",
    "result_prompt = few_shot_prompt.format(word='Deep Learning')\n",
    "\n",
    "llm.invoke(result_prompt)"
   ]
  },
  {
   "cell_type": "code",
   "execution_count": null,
   "metadata": {},
   "outputs": [
    {
     "data": {
      "text/plain": [
       "AIMessage(content='고객님의 취향을 반영하여 다음과 같은 메뉴를 추천합니다:\\n\\n1. 갈비찜 - 부드러운 갈비와 짭조름한 국물의 조화가 좋습니다.\\n2. 해물파전 - 해산물의 풍미와 부드러운 반죽이 잘 어우러진 전통적인 메뉴입니다.\\n3. 소금구이 방어 - 해산물인 방어를 소금으로 간을 하여 담백하게 즐길 수 있습니다.\\n\\n이 메뉴들이 도움이 되길 바랍니다!', additional_kwargs={'refusal': None}, response_metadata={'token_usage': {'completion_tokens': 115, 'prompt_tokens': 206, 'total_tokens': 321, 'completion_tokens_details': {'accepted_prediction_tokens': 0, 'audio_tokens': 0, 'reasoning_tokens': 0, 'rejected_prediction_tokens': 0}, 'prompt_tokens_details': {'audio_tokens': 0, 'cached_tokens': 0}}, 'model_name': 'gpt-4o-mini-2024-07-18', 'system_fingerprint': 'fp_06737a9306', 'finish_reason': 'stop', 'logprobs': None}, id='run-0c44207c-68d8-4dba-a41e-9e3840920dbf-0', usage_metadata={'input_tokens': 206, 'output_tokens': 115, 'total_tokens': 321, 'input_token_details': {'audio': 0, 'cache_read': 0}, 'output_token_details': {'audio': 0, 'reasoning': 0}})"
      ]
     },
     "execution_count": 42,
     "metadata": {},
     "output_type": "execute_result"
    }
   ],
   "source": [
    "from langchain.prompts import FewShotPromptTemplate, PromptTemplate\n",
    "\n",
    "examples = [\n",
    "    {'preference':'매운 음식을 좋아하고 해산물을 선호합니다.', 'recommendation':'엽떡, 쭈꾸미볶음, 방어회'},\n",
    "    {'preference':'고기를 좋아하고 과일이나 야채는 싫어합니다.', 'recommendation':'고기만두, 차돌숙주볶음, 소고기미역국국'},\n",
    "    {'preference':'미지근하고 따듯한 볶음요리를 좋아하고 술을 좋아합니다', 'recommendation':'차슈덮밥, 물만두, 소맥'}\n",
    "]\n",
    "\n",
    "\n",
    "example_template = PromptTemplate.from_template('고객취향 : {preference} \\n 추천메뉴 : {recommendation}')\n",
    "\n",
    "\n",
    "few_shot_prompt = FewShotPromptTemplate(\n",
    "    examples = examples,               \n",
    "    example_prompt = example_template,    \n",
    "    prefix =\"당신은 고객의 취향에 맞는 음식을 추천해주는 인공지능 어시스턴트 입니다\\n\",  \n",
    "    suffix = \"고객취향 : {preference} \\n 추천메뉴 : \",       \n",
    "    input_variables=[\"preference\"]    \n",
    ")\n",
    "\n",
    "final_prompt = few_shot_prompt.format(preference='그이는 해산물은 좋아하지만 매운것은 잘 못먹고 고기는 좋아하고 약간 짭짤하게 먹는 편이야')\n",
    "\n",
    "llm.invoke(final_prompt)"
   ]
  },
  {
   "cell_type": "code",
   "execution_count": 43,
   "metadata": {},
   "outputs": [
    {
     "data": {
      "text/plain": [
       "AIMessage(content='추천 여행지 : 강화도 조용한 해변, 정선 자타겟 한적한 온천, 전남 완도 수목원\\n\\n이 장소들은 혼잡하지 않고 자연 속에서 편안하게 시간을 보낼 수 있는 곳들입니다. 집돌이에게 적합한 조용하고 안락한 환경을 제공합니다.', additional_kwargs={'refusal': None}, response_metadata={'token_usage': {'completion_tokens': 72, 'prompt_tokens': 204, 'total_tokens': 276, 'completion_tokens_details': {'accepted_prediction_tokens': 0, 'audio_tokens': 0, 'reasoning_tokens': 0, 'rejected_prediction_tokens': 0}, 'prompt_tokens_details': {'audio_tokens': 0, 'cached_tokens': 0}}, 'model_name': 'gpt-4o-mini-2024-07-18', 'system_fingerprint': 'fp_06737a9306', 'finish_reason': 'stop', 'logprobs': None}, id='run-055c6d8f-5cef-46fc-81ce-b426f64b1a80-0', usage_metadata={'input_tokens': 204, 'output_tokens': 72, 'total_tokens': 276, 'input_token_details': {'audio': 0, 'cache_read': 0}, 'output_token_details': {'audio': 0, 'reasoning': 0}})"
      ]
     },
     "execution_count": 43,
     "metadata": {},
     "output_type": "execute_result"
    }
   ],
   "source": [
    "from langchain.prompts import FewShotPromptTemplate, PromptTemplate\n",
    "\n",
    "examples = [\n",
    "    {'preference': '자연을 좋아하고 조용한 곳에서 힐링하고 싶어요.', \n",
    "     'recommendation': '제주도 올레길, 강릉 안목해변, 경주 불국사'},\n",
    "    \n",
    "    {'preference': '도시를 탐방하고 다양한 맛집을 즐기고 싶어요.', \n",
    "     'recommendation': '서울 홍대 거리, 부산 광안리, 전주 한옥마을'},\n",
    "    \n",
    "    {'preference': '액티비티를 즐기고 모험적인 여행을 하고 싶어요.', \n",
    "     'recommendation': '가평 수상스키, 강원도 레프팅, 제주도 스쿠버다이빙'}\n",
    "]\n",
    "\n",
    "\n",
    "example_template = PromptTemplate.from_template('고객취향 : {preference} \\n 추천 여행지 : {recommendation}')\n",
    "\n",
    "\n",
    "few_shot_prompt = FewShotPromptTemplate(\n",
    "    examples = examples,               \n",
    "    example_prompt = example_template,    \n",
    "    prefix =\"당신은 고객의 취향에 맞는 여행을 추천해주는 인공지능 어시스턴트 입니다\\n\",  \n",
    "    suffix = \"고객취향 : {preference} \\n 추천 여행지 : \",       \n",
    "    input_variables=[\"preference\"]    \n",
    ")\n",
    "\n",
    "final_prompt = few_shot_prompt.format(preference='그 아이는 집돌이야. 어디 많이 걷고 혼잡한곳은 싫어해.')\n",
    "\n",
    "llm.invoke(final_prompt)"
   ]
  },
  {
   "cell_type": "code",
   "execution_count": null,
   "metadata": {},
   "outputs": [],
   "source": []
  }
 ],
 "metadata": {
  "kernelspec": {
   "display_name": "lang",
   "language": "python",
   "name": "python3"
  },
  "language_info": {
   "codemirror_mode": {
    "name": "ipython",
    "version": 3
   },
   "file_extension": ".py",
   "mimetype": "text/x-python",
   "name": "python",
   "nbconvert_exporter": "python",
   "pygments_lexer": "ipython3",
   "version": "3.12.8"
  }
 },
 "nbformat": 4,
 "nbformat_minor": 2
}
