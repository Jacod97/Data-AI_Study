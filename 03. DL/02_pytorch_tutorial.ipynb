{
 "cells": [
  {
   "cell_type": "markdown",
   "metadata": {},
   "source": [
    "# Pytorch Tutorial"
   ]
  },
  {
   "cell_type": "code",
   "execution_count": 1,
   "metadata": {},
   "outputs": [
    {
     "name": "stdout",
     "output_type": "stream",
     "text": [
      "2.6.0+cu124\n"
     ]
    }
   ],
   "source": [
    "import torch\n",
    "\n",
    "print(torch.__version__)"
   ]
  },
  {
   "cell_type": "markdown",
   "metadata": {},
   "source": [
    "<div align=\"center\">\n",
    "    <img src=\"https://www.dropbox.com/scl/fi/wo99ka59crkgblz0ucox9/pytorch002.png?rlkey=9x32kgjjjdo51dgvquf2p9m84&dl=1\" width=70%>\n",
    "</div>"
   ]
  },
  {
   "cell_type": "markdown",
   "metadata": {},
   "source": [
    "## 1. Tensor 만들기"
   ]
  },
  {
   "cell_type": "code",
   "execution_count": 3,
   "metadata": {},
   "outputs": [
    {
     "name": "stdout",
     "output_type": "stream",
     "text": [
      "tensor(5)\n",
      "5\n"
     ]
    }
   ],
   "source": [
    "import numpy as np \n",
    "\n",
    "a = torch.tensor(5)\n",
    "print(a)\n",
    "print(a.item())"
   ]
  },
  {
   "cell_type": "code",
   "execution_count": 6,
   "metadata": {},
   "outputs": [
    {
     "name": "stdout",
     "output_type": "stream",
     "text": [
      "tensor([1, 2, 3])\n",
      "tensor([[1, 2, 3],\n",
      "        [4, 5, 6]])\n",
      "tensor([[[1, 2],\n",
      "         [3, 4]],\n",
      "\n",
      "        [[5, 6],\n",
      "         [7, 8]]])\n"
     ]
    }
   ],
   "source": [
    "b = torch.tensor([1, 2, 3])\n",
    "c = torch.tensor([[1, 2, 3], [4, 5, 6]])\n",
    "d = torch.tensor([[[1, 2], [3, 4]], [[5, 6], [7, 8]]])\n",
    "print(b)\n",
    "print(c)\n",
    "print(d)"
   ]
  },
  {
   "cell_type": "code",
   "execution_count": 12,
   "metadata": {},
   "outputs": [
    {
     "name": "stdout",
     "output_type": "stream",
     "text": [
      "2\n",
      "torch.Size([2, 3])\n",
      "torch.float32\n"
     ]
    }
   ],
   "source": [
    "a = torch.tensor(\n",
    "    [\n",
    "        [1, 2, 3], \n",
    "        [4, 5, 6.0]\n",
    "    ]\n",
    ")\n",
    "print(a.ndim)\n",
    "print(a.shape)\n",
    "print(a.dtype)"
   ]
  },
  {
   "cell_type": "code",
   "execution_count": 14,
   "metadata": {},
   "outputs": [
    {
     "name": "stdout",
     "output_type": "stream",
     "text": [
      "tensor([[[0., 0., 0., 0.],\n",
      "         [0., 0., 0., 0.]],\n",
      "\n",
      "        [[0., 0., 0., 0.],\n",
      "         [0., 0., 0., 0.]],\n",
      "\n",
      "        [[0., 0., 0., 0.],\n",
      "         [0., 0., 0., 0.]]])\n",
      "tensor([[[1., 1., 1., 1.],\n",
      "         [1., 1., 1., 1.]],\n",
      "\n",
      "        [[1., 1., 1., 1.],\n",
      "         [1., 1., 1., 1.]],\n",
      "\n",
      "        [[1., 1., 1., 1.],\n",
      "         [1., 1., 1., 1.]]])\n"
     ]
    }
   ],
   "source": [
    "# 모든 원소가 0인 텐서 만들기 zeros\n",
    "a = torch.zeros(3, 2, 4)\n",
    "# 모든 원소가 1인 텐서 만들기 ones\n",
    "b = torch.ones(3, 2, 4)\n",
    "\n",
    "print(a)\n",
    "print(b)"
   ]
  },
  {
   "cell_type": "code",
   "execution_count": 15,
   "metadata": {},
   "outputs": [
    {
     "name": "stdout",
     "output_type": "stream",
     "text": [
      "tensor([0, 1, 2, 3, 4, 5, 6, 7, 8, 9])\n"
     ]
    }
   ],
   "source": [
    "# arange\n",
    "a = torch.arange(0, 10)\n",
    "print(a)\n"
   ]
  },
  {
   "cell_type": "code",
   "execution_count": 16,
   "metadata": {},
   "outputs": [
    {
     "data": {
      "text/plain": [
       "tensor([[0, 1, 2, 3, 4],\n",
       "        [5, 6, 7, 8, 9]])"
      ]
     },
     "execution_count": 16,
     "metadata": {},
     "output_type": "execute_result"
    }
   ],
   "source": [
    "a.reshape(2, 5)"
   ]
  },
  {
   "cell_type": "code",
   "execution_count": 17,
   "metadata": {},
   "outputs": [
    {
     "data": {
      "text/plain": [
       "tensor([[0, 1, 2, 3, 4],\n",
       "        [5, 6, 7, 8, 9]])"
      ]
     },
     "execution_count": 17,
     "metadata": {},
     "output_type": "execute_result"
    }
   ],
   "source": [
    "a.reshape(2, -1)"
   ]
  },
  {
   "cell_type": "code",
   "execution_count": 18,
   "metadata": {},
   "outputs": [
    {
     "data": {
      "text/plain": [
       "tensor([[0, 1, 2, 3, 4],\n",
       "        [5, 6, 7, 8, 9]])"
      ]
     },
     "execution_count": 18,
     "metadata": {},
     "output_type": "execute_result"
    }
   ],
   "source": [
    "a.view(2, 5)"
   ]
  },
  {
   "cell_type": "code",
   "execution_count": 19,
   "metadata": {},
   "outputs": [
    {
     "name": "stdout",
     "output_type": "stream",
     "text": [
      "tensor([0.0000, 0.1111, 0.2222, 0.3333, 0.4444, 0.5556, 0.6667, 0.7778, 0.8889,\n",
      "        1.0000])\n"
     ]
    }
   ],
   "source": [
    "# 0에서 1까지를 10개의 점으로 나타내고 싶어요 -> linspace\n",
    "a = torch.linspace(0, 1, 10)\n",
    "\n",
    "print(a)"
   ]
  },
  {
   "cell_type": "code",
   "execution_count": 20,
   "metadata": {},
   "outputs": [
    {
     "name": "stdout",
     "output_type": "stream",
     "text": [
      "tensor([[0.2378, 0.5865, 0.7600],\n",
      "        [0.9021, 0.1699, 0.6903]])\n"
     ]
    }
   ],
   "source": [
    "# 난수 만들기 (rand, randn)\n",
    "a = torch.rand(2, 3)\n",
    "print(a)"
   ]
  },
  {
   "cell_type": "code",
   "execution_count": 22,
   "metadata": {},
   "outputs": [
    {
     "name": "stdout",
     "output_type": "stream",
     "text": [
      "tensor([[ 0.3675, -1.6932, -0.4411],\n",
      "        [-0.9104, -2.1993, -1.1272]])\n"
     ]
    }
   ],
   "source": [
    "b = torch.randn(2, 3)\n",
    "print(b)"
   ]
  },
  {
   "cell_type": "code",
   "execution_count": 10,
   "metadata": {},
   "outputs": [
    {
     "name": "stdout",
     "output_type": "stream",
     "text": [
      "tensor([0, 1, 2, 3, 4, 5, 6, 7, 8, 9])\n",
      "tensor([[0, 1, 2, 3, 4],\n",
      "        [5, 6, 7, 8, 9]])\n",
      "tensor([[0, 1, 2, 3, 4],\n",
      "        [5, 6, 7, 8, 9]])\n"
     ]
    }
   ],
   "source": [
    "# 미션\n",
    "# 1. shape가 100, 5인 난수 tensor 생성(uniform 분포)\n",
    "ts1 = torch.rand(100, 5)\n",
    "# print(ts1)\n",
    "# 2. 0부터 1까지 일정한 간격으로 100개인 tensor 생성\n",
    "ts2 = torch.linspace(0, 1, 100)\n",
    "# print(ts2)\n",
    "# 3. 모든 원소가 0인 100, 5 tensor 생성\n",
    "ts3 = torch.zeros(100, 5)\n",
    "# print(ts3)\n",
    "# 4. 원소의 shape가 1이고 원소가 1, 2, 3, 4, 5인 tensor 생성\n",
    "ts4 = torch.tensor([1, 2, 3, 4, 5])\n",
    "# print(ts4, ts4.shape)\n",
    "## shape가 1, 5\n",
    "ts4 = torch.tensor([[1, 2, 3, 4, 5]])\n",
    "# print(ts4, ts4.shape)\n",
    "## shape가 5, 1\n",
    "ts4 = torch.tensor([[1], [2], [3], [4], [5]])\n",
    "# print(ts4, ts4.shape)\n",
    "# 5. 0부터 9까지의 tensor 생성\n",
    "ts5 = torch.arange(0, 10)\n",
    "print(ts5)\n",
    "# 6. 5번을 (2, 5) shape로 바꾸기(1. view 2. reshape)\n",
    "print(ts5.view(2, 5))\n",
    "print(ts5.reshape(2, 5))"
   ]
  },
  {
   "cell_type": "markdown",
   "metadata": {},
   "source": [
    "### 연산"
   ]
  },
  {
   "cell_type": "code",
   "execution_count": 13,
   "metadata": {},
   "outputs": [
    {
     "name": "stdout",
     "output_type": "stream",
     "text": [
      "torch.Size([2, 3]) torch.Size([3, 2])\n",
      "tensor([[ 14, -14],\n",
      "        [ 32, -32]])\n",
      "tensor([[ 14, -14],\n",
      "        [ 32, -32]])\n"
     ]
    }
   ],
   "source": [
    "A = torch.tensor([[1, 2, 3],[4, 5, 6]])\n",
    "B = torch.tensor([[1, -1],[2, -2],[3, -3]])\n",
    "print(A.shape, B.shape)\n",
    "\n",
    "# 행렬의 곱셈 연산 기호 @\n",
    "print(A @ B)\n",
    "print(A.matmul(B))"
   ]
  },
  {
   "cell_type": "code",
   "execution_count": 15,
   "metadata": {},
   "outputs": [
    {
     "name": "stdout",
     "output_type": "stream",
     "text": [
      "tensor([[1, 2, 3],\n",
      "        [4, 5, 6]])\n",
      "tensor([[1, 2, 3],\n",
      "        [4, 5, 6]])\n"
     ]
    }
   ],
   "source": [
    "A = torch.tensor([[1, -2, 3],[-4, 5, 6]])\n",
    "\n",
    "# A의 모든 원소에 절댓값(abs)을 취해주세요\n",
    "print(torch.abs(A))\n",
    "print(A.abs())"
   ]
  },
  {
   "cell_type": "markdown",
   "metadata": {},
   "source": [
    "### 이미지 형태 "
   ]
  },
  {
   "cell_type": "code",
   "execution_count": 19,
   "metadata": {},
   "outputs": [
    {
     "data": {
      "image/jpeg": "[encoded data removed]",
      "image/png": "[encoded data removed]",
      "text/plain": [
       "<PIL.JpegImagePlugin.JpegImageFile image mode=RGB size=275x183>"
      ]
     },
     "execution_count": 19,
     "metadata": {},
     "output_type": "execute_result"
    }
   ],
   "source": [
    "# 이미지 불러오기\n",
    "from PIL import Image \n",
    "import numpy as np \n",
    "\n",
    "image = Image.open(\"./강아지.jpeg\")\n",
    "image"
   ]
  },
  {
   "cell_type": "code",
   "execution_count": 26,
   "metadata": {},
   "outputs": [
    {
     "name": "stdout",
     "output_type": "stream",
     "text": [
      "(183, 275, 3)\n",
      "[[[147 144 125]\n",
      "  [147 144 125]\n",
      "  [148 145 126]\n",
      "  ...\n",
      "  [144 141 124]\n",
      "  [144 141 126]\n",
      "  [142 139 124]]\n",
      "\n",
      " [[144 141 122]\n",
      "  [144 141 122]\n",
      "  [145 142 123]\n",
      "  ...\n",
      "  [149 146 129]\n",
      "  [148 145 130]\n",
      "  [147 144 129]]\n",
      "\n",
      " [[139 136 117]\n",
      "  [140 137 118]\n",
      "  [142 139 120]\n",
      "  ...\n",
      "  [155 152 133]\n",
      "  [155 152 135]\n",
      "  [154 151 134]]\n",
      "\n",
      " ...\n",
      "\n",
      " [[129 132 105]\n",
      "  [131 138 107]\n",
      "  [ 97 111  78]\n",
      "  ...\n",
      "  [ 88 109  76]\n",
      "  [ 84 105  74]\n",
      "  [ 76  97  66]]\n",
      "\n",
      " [[126 124  99]\n",
      "  [110 113  84]\n",
      "  [ 85  99  64]\n",
      "  ...\n",
      "  [111 132 101]\n",
      "  [ 92 112  84]\n",
      "  [106 126  99]]\n",
      "\n",
      " [[103  96  70]\n",
      "  [ 79  78  50]\n",
      "  [ 87  98  64]\n",
      "  ...\n",
      "  [141 161 133]\n",
      "  [ 64  84  57]\n",
      "  [102 122  97]]]\n"
     ]
    }
   ],
   "source": [
    "image_arr = np.array(image)\n",
    "print(image_arr.shape)\n",
    "print(image_arr)"
   ]
  },
  {
   "cell_type": "code",
   "execution_count": 27,
   "metadata": {},
   "outputs": [
    {
     "name": "stdout",
     "output_type": "stream",
     "text": [
      "torch.Size([3, 183, 275])\n",
      "tensor([[[0.5765, 0.5765, 0.5804,  ..., 0.5647, 0.5647, 0.5569],\n",
      "         [0.5647, 0.5647, 0.5686,  ..., 0.5843, 0.5804, 0.5765],\n",
      "         [0.5451, 0.5490, 0.5569,  ..., 0.6078, 0.6078, 0.6039],\n",
      "         ...,\n",
      "         [0.5059, 0.5137, 0.3804,  ..., 0.3451, 0.3294, 0.2980],\n",
      "         [0.4941, 0.4314, 0.3333,  ..., 0.4353, 0.3608, 0.4157],\n",
      "         [0.4039, 0.3098, 0.3412,  ..., 0.5529, 0.2510, 0.4000]],\n",
      "\n",
      "        [[0.5647, 0.5647, 0.5686,  ..., 0.5529, 0.5529, 0.5451],\n",
      "         [0.5529, 0.5529, 0.5569,  ..., 0.5725, 0.5686, 0.5647],\n",
      "         [0.5333, 0.5373, 0.5451,  ..., 0.5961, 0.5961, 0.5922],\n",
      "         ...,\n",
      "         [0.5176, 0.5412, 0.4353,  ..., 0.4275, 0.4118, 0.3804],\n",
      "         [0.4863, 0.4431, 0.3882,  ..., 0.5176, 0.4392, 0.4941],\n",
      "         [0.3765, 0.3059, 0.3843,  ..., 0.6314, 0.3294, 0.4784]],\n",
      "\n",
      "        [[0.4902, 0.4902, 0.4941,  ..., 0.4863, 0.4941, 0.4863],\n",
      "         [0.4784, 0.4784, 0.4824,  ..., 0.5059, 0.5098, 0.5059],\n",
      "         [0.4588, 0.4627, 0.4706,  ..., 0.5216, 0.5294, 0.5255],\n",
      "         ...,\n",
      "         [0.4118, 0.4196, 0.3059,  ..., 0.2980, 0.2902, 0.2588],\n",
      "         [0.3882, 0.3294, 0.2510,  ..., 0.3961, 0.3294, 0.3882],\n",
      "         [0.2745, 0.1961, 0.2510,  ..., 0.5216, 0.2235, 0.3804]]])\n"
     ]
    }
   ],
   "source": [
    "import torchvision.transforms as transforms\n",
    "\n",
    "transform = transforms.ToTensor()\n",
    "image_torch = transform(image)\n",
    "print(image_torch.shape)\n",
    "print(image_torch)"
   ]
  },
  {
   "cell_type": "markdown",
   "metadata": {},
   "source": [
    "### 병합"
   ]
  },
  {
   "cell_type": "code",
   "execution_count": null,
   "metadata": {},
   "outputs": [],
   "source": [
    "# cat\n",
    "# stack"
   ]
  },
  {
   "cell_type": "code",
   "execution_count": 31,
   "metadata": {},
   "outputs": [
    {
     "name": "stdout",
     "output_type": "stream",
     "text": [
      "torch.Size([8, 2]) torch.Size([2, 4, 2])\n"
     ]
    }
   ],
   "source": [
    "data1 = torch.rand(4, 2)\n",
    "data2 = torch.rand(4, 2)\n",
    "\n",
    "result1 = torch.cat((data1, data2), dim=0)\n",
    "result2 = torch.stack((data1, data2))\n",
    "print(result1.shape, result2.shape)"
   ]
  },
  {
   "cell_type": "markdown",
   "metadata": {},
   "source": [
    "### 차원 추가 및 제거"
   ]
  },
  {
   "cell_type": "code",
   "execution_count": 2,
   "metadata": {},
   "outputs": [
    {
     "name": "stdout",
     "output_type": "stream",
     "text": [
      "torch.Size([1, 4, 2]) tensor([[[0.4256, 0.2830],\n",
      "         [0.3796, 0.3158],\n",
      "         [0.1659, 0.9785],\n",
      "         [0.4006, 0.8751]]])\n",
      "torch.Size([4, 2]) tensor([[0.4256, 0.2830],\n",
      "        [0.3796, 0.3158],\n",
      "        [0.1659, 0.9785],\n",
      "        [0.4006, 0.8751]])\n",
      "torch.Size([2, 5]) tensor([[0.0393, 0.8521, 0.2225, 0.3840, 0.2858],\n",
      "        [0.7154, 0.8514, 0.5761, 0.9087, 0.7303]])\n",
      "torch.Size([2, 5, 1]) tensor([[[0.0393],\n",
      "         [0.8521],\n",
      "         [0.2225],\n",
      "         [0.3840],\n",
      "         [0.2858]],\n",
      "\n",
      "        [[0.7154],\n",
      "         [0.8514],\n",
      "         [0.5761],\n",
      "         [0.9087],\n",
      "         [0.7303]]])\n"
     ]
    }
   ],
   "source": [
    "# squeeze, unsqueeze\n",
    "import torch\n",
    "A = torch.rand(1, 4, 2)\n",
    "B = torch.rand(2, 5)\n",
    "\n",
    "print(A.shape, A)\n",
    "print(A.squeeze(0).shape, A.squeeze(0))\n",
    "print(B.shape, B)\n",
    "print(B.unsqueeze(2).shape, B.unsqueeze(2))"
   ]
  },
  {
   "cell_type": "markdown",
   "metadata": {},
   "source": [
    "## 2. 미분하기"
   ]
  },
  {
   "cell_type": "markdown",
   "metadata": {},
   "source": [
    "$$\n",
    "    y = x^2, \\quad \\dfrac{dy}{dx} = 2x\n",
    "$$"
   ]
  },
  {
   "cell_type": "code",
   "execution_count": 27,
   "metadata": {},
   "outputs": [
    {
     "name": "stdout",
     "output_type": "stream",
     "text": [
      "tensor(2., requires_grad=True)\n",
      "None\n",
      "tensor(4., grad_fn=<PowBackward0>)\n",
      "tensor(4.)\n"
     ]
    }
   ],
   "source": [
    "x = torch.tensor(2.0, requires_grad=True)\n",
    "y = x**2\n",
    "print(x)\n",
    "print(x.grad)\n",
    "print(y)\n",
    "\n",
    "y.backward()     # dy/dx\n",
    "print(x.grad)"
   ]
  },
  {
   "cell_type": "code",
   "execution_count": 28,
   "metadata": {},
   "outputs": [
    {
     "name": "stdout",
     "output_type": "stream",
     "text": [
      "tensor(14.)\n"
     ]
    }
   ],
   "source": [
    "# 미션 y = x^3 + 2x + 1, x=-2\n",
    "x = torch.tensor(-2.0, requires_grad=True)\n",
    "y = x**3 + 2*x + 1\n",
    "\n",
    "y.backward()\n",
    "print(x.grad)"
   ]
  },
  {
   "cell_type": "markdown",
   "metadata": {},
   "source": [
    "$$\n",
    "    y = 3x^2, \\quad z = 5y,\\quad \\dfrac{dz}{dx}\n",
    "$$"
   ]
  },
  {
   "cell_type": "code",
   "execution_count": 30,
   "metadata": {},
   "outputs": [
    {
     "name": "stdout",
     "output_type": "stream",
     "text": [
      "tensor(60.)\n"
     ]
    }
   ],
   "source": [
    "x = torch.tensor(2.0, requires_grad=True)\n",
    "\n",
    "y = 3 * x**2\n",
    "z = 5 * y\n",
    "\n",
    "z.backward()\n",
    "print(x.grad)"
   ]
  },
  {
   "cell_type": "code",
   "execution_count": 32,
   "metadata": {},
   "outputs": [
    {
     "name": "stdout",
     "output_type": "stream",
     "text": [
      "After first backward, Gradient of x: 4.0\n",
      "Without zero_grad, Gradient of x: 8.0\n",
      "After zero_grad, Gradient of x: 4.0\n"
     ]
    }
   ],
   "source": [
    "import torch\n",
    "\n",
    "# x를 학습 가능한 변수로 정의\n",
    "x = torch.tensor(2.0, requires_grad=True)\n",
    "\n",
    "# 첫 번째 함수: y1 = x^2 -> dy1 / dx = 2x\n",
    "y1 = x**2\n",
    "y1.backward()\n",
    "print(\"After first backward, Gradient of x:\", x.grad.item())\n",
    "\n",
    "# 그래디언트를 초기화하지 않고 다시 계산: y2 = 3x -> dy2 / dx = 3\n",
    "# 초기화하지 않으면 누적됨\n",
    "y2 = x **2\n",
    "y2.backward()\n",
    "print(\"Without zero_grad, Gradient of x:\", x.grad.item())\n",
    "\n",
    "# 그래디언트 초기화 후 다시 계산: y3 = 4x -> dy3 / dx = 4\n",
    "x.grad.zero_()\n",
    "y3 = 4 * x\n",
    "y3.backward()\n",
    "print(\"After zero_grad, Gradient of x:\", x.grad.item())"
   ]
  }
 ],
 "metadata": {
  "kernelspec": {
   "display_name": "wanted_dl",
   "language": "python",
   "name": "python3"
  },
  "language_info": {
   "codemirror_mode": {
    "name": "ipython",
    "version": 3
   },
   "file_extension": ".py",
   "mimetype": "text/x-python",
   "name": "python",
   "nbconvert_exporter": "python",
   "pygments_lexer": "ipython3",
   "version": "3.11.11"
  }
 },
 "nbformat": 4,
 "nbformat_minor": 2
}
